{
 "cells": [
  {
   "cell_type": "code",
   "execution_count": 37,
   "metadata": {},
   "outputs": [],
   "source": [
    "import os\n",
    "import numpy as np\n",
    "import pandas as pd\n",
    "import matplotlib.pyplot as plt\n",
    "import seaborn as sns\n",
    "\n",
    "from sklearn.preprocessing import LabelEncoder\n",
    "from sklearn.preprocessing import StandardScaler\n",
    "from sklearn.model_selection import train_test_split\n",
    "\n",
    "\n",
    "from sklearn.linear_model import LinearRegression\n",
    "from sklearn.neural_network import MLPRegressor\n",
    "from sklearn.ensemble import RandomForestRegressor\n",
    "from sklearn.ensemble import ExtraTreesRegressor\n",
    "from sklearn.ensemble import GradientBoostingRegressor\n",
    "from catboost import CatBoostRegressor\n",
    "\n",
    "from sklearn.metrics import mean_squared_log_error\n",
    "from scipy.stats import zscore\n",
    "\n",
    "from sklearn.model_selection import GridSearchCV, RandomizedSearchCV\n",
    "from sklearn.decomposition import PCA\n",
    "\n",
    "import warnings\n",
    "warnings.filterwarnings('ignore')"
   ]
  },
  {
   "cell_type": "code",
   "execution_count": 38,
   "metadata": {},
   "outputs": [],
   "source": [
    "train=pd.read_csv('train.csv')\n",
    "test=pd.read_csv('test.csv')"
   ]
  },
  {
   "cell_type": "code",
   "execution_count": 39,
   "metadata": {},
   "outputs": [],
   "source": [
    "train.drop(columns=['ID'],inplace=True)\n",
    "testID = test.ID\n",
    "test.drop(columns=['ID'],inplace=True)"
   ]
  },
  {
   "cell_type": "code",
   "execution_count": 36,
   "metadata": {},
   "outputs": [],
   "source": [
    "# train.dropna(inplace=True)"
   ]
  },
  {
   "cell_type": "code",
   "execution_count": 40,
   "metadata": {},
   "outputs": [],
   "source": [
    "# Converting string columns to numeric\n",
    "labelencoder = LabelEncoder()\n",
    "for feature in ['HISPDAD' , 'HISPMOM']:\n",
    "    train[feature] = train[feature].astype(str)\n",
    "    test[feature] = test[feature].astype(str)\n",
    "    \n",
    "    train[feature].fillna(train[feature].mode(), inplace = True)\n",
    "    test[feature].fillna(train[feature].mode(), inplace = True)\n",
    "\n",
    "    labelencoder.fit(train[feature].append(test[feature]))\n",
    "\n",
    "    train[feature] = labelencoder.transform(train[feature])\n",
    "    test[feature] = labelencoder.transform(test[feature])"
   ]
  },
  {
   "cell_type": "code",
   "execution_count": 41,
   "metadata": {},
   "outputs": [],
   "source": [
    "# fill missing values with mean column values\n",
    "train.fillna(train.mean(), inplace=True)"
   ]
  },
  {
   "cell_type": "code",
   "execution_count": 42,
   "metadata": {},
   "outputs": [],
   "source": [
    "# split into X and y\n",
    "y = train['BWEIGHT']\n",
    "train.drop(['BWEIGHT'], axis=1, inplace=True)"
   ]
  },
  {
   "cell_type": "code",
   "execution_count": 43,
   "metadata": {},
   "outputs": [],
   "source": [
    "# zscaling\n",
    "train=train.apply(zscore)\n",
    "test=test.apply(zscore)"
   ]
  },
  {
   "cell_type": "code",
   "execution_count": 47,
   "metadata": {},
   "outputs": [],
   "source": [
    "# split into train and test sets\n",
    "X_train, X_test, y_train, y_test = train_test_split(train, y, test_size=0.2, random_state=42)"
   ]
  },
  {
   "cell_type": "code",
   "execution_count": 48,
   "metadata": {},
   "outputs": [],
   "source": [
    "# Define models\n",
    "models = [\n",
    "    LinearRegression(),\n",
    "    MLPRegressor(verbose=10),\n",
    "    RandomForestRegressor(),\n",
    "    ExtraTreesRegressor(),\n",
    "    GradientBoostingRegressor(),\n",
    "    CatBoostRegressor(eval_metric = 'RMSE',verbose = 10)\n",
    "\n",
    "]"
   ]
  },
  {
   "cell_type": "code",
   "execution_count": 49,
   "metadata": {},
   "outputs": [
    {
     "data": {
      "text/plain": [
       "-1.2830745884642256"
      ]
     },
     "execution_count": 49,
     "metadata": {},
     "output_type": "execute_result"
    }
   ],
   "source": [
    "min(y_pred)"
   ]
  },
  {
   "cell_type": "code",
   "execution_count": 50,
   "metadata": {},
   "outputs": [
    {
     "name": "stdout",
     "output_type": "stream",
     "text": [
      "Model: LinearRegression\n",
      "score: 0.02\n",
      "\n",
      "\n",
      "Iteration 1, loss = 4.91548529\n",
      "Iteration 2, loss = 0.75388528\n",
      "Iteration 3, loss = 0.58822774\n",
      "Iteration 4, loss = 0.53930196\n",
      "Iteration 5, loss = 0.52058706\n",
      "Iteration 6, loss = 0.51045914\n",
      "Iteration 7, loss = 0.50421848\n",
      "Iteration 8, loss = 0.50032930\n",
      "Iteration 9, loss = 0.49763952\n",
      "Iteration 10, loss = 0.49475167\n",
      "Iteration 11, loss = 0.49202311\n",
      "Iteration 12, loss = 0.49016841\n",
      "Iteration 13, loss = 0.48941550\n",
      "Iteration 14, loss = 0.48911395\n",
      "Iteration 15, loss = 0.48788558\n",
      "Iteration 16, loss = 0.48676754\n",
      "Iteration 17, loss = 0.48512560\n",
      "Iteration 18, loss = 0.48503729\n",
      "Iteration 19, loss = 0.48593938\n",
      "Iteration 20, loss = 0.48249473\n",
      "Iteration 21, loss = 0.48189793\n",
      "Iteration 22, loss = 0.48232422\n",
      "Iteration 23, loss = 0.48131759\n",
      "Iteration 24, loss = 0.47999033\n",
      "Iteration 25, loss = 0.48031975\n",
      "Iteration 26, loss = 0.47983622\n",
      "Iteration 27, loss = 0.48054395\n",
      "Iteration 28, loss = 0.47919114\n"
     ]
    }
   ],
   "source": [
    "# Evaluate models\n",
    "for model in models:\n",
    "    model.fit(X_train, y_train)\n",
    "    y_pred = model.predict(X_test)\n",
    "    print(\"Model: %s\" % model.__class__.__name__)\n",
    "    print(\"score: %.2f\" % mean_squared_log_error(y_test, y_pred))\n",
    "    print(\"\\n\")"
   ]
  },
  {
   "cell_type": "code",
   "execution_count": null,
   "metadata": {},
   "outputs": [],
   "source": [
    "model = models[0]\n",
    "model.fit(train, y)\n",
    "res = model.predict(test)"
   ]
  },
  {
   "cell_type": "code",
   "execution_count": null,
   "metadata": {},
   "outputs": [],
   "source": [
    "# save results to file\n",
    "results = pd.DataFrame({'ID': testID, 'BWEIGHT': res})\n",
    "filename = \"submission.csv\"\n",
    "if os.path.exists(filename):\n",
    "  os.remove(filename)\n",
    "results.to_csv(filename, index=False,header=True, mode='w')"
   ]
  },
  {
   "cell_type": "code",
   "execution_count": null,
   "metadata": {},
   "outputs": [],
   "source": []
  }
 ],
 "metadata": {
  "kernelspec": {
   "display_name": "Python 3.8.13 ('base')",
   "language": "python",
   "name": "python3"
  },
  "language_info": {
   "codemirror_mode": {
    "name": "ipython",
    "version": 3
   },
   "file_extension": ".py",
   "mimetype": "text/x-python",
   "name": "python",
   "nbconvert_exporter": "python",
   "pygments_lexer": "ipython3",
   "version": "3.8.13"
  },
  "vscode": {
   "interpreter": {
    "hash": "ad2bdc8ecc057115af97d19610ffacc2b4e99fae6737bb82f5d7fb13d2f2c186"
   }
  }
 },
 "nbformat": 4,
 "nbformat_minor": 1
}
